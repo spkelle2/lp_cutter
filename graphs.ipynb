{
 "cells": [
  {
   "cell_type": "code",
   "execution_count": 1,
   "metadata": {},
   "outputs": [],
   "source": [
    "import matplotlib.pyplot as plt\n",
    "%matplotlib inline\n",
    "import pandas as pd\n",
    "import os\n",
    "from itertools import product\n",
    "import numpy as np"
   ]
  },
  {
   "cell_type": "code",
   "execution_count": 2,
   "metadata": {},
   "outputs": [],
   "source": [
    "from min_bisection import solution_schema"
   ]
  },
  {
   "cell_type": "code",
   "execution_count": 3,
   "metadata": {},
   "outputs": [],
   "source": [
    "fldr = 'batch_12_17_20'"
   ]
  },
  {
   "cell_type": "code",
   "execution_count": 4,
   "metadata": {},
   "outputs": [],
   "source": [
    "meta = pd.read_csv(os.path.join(fldr, 'summary_stats.csv'))"
   ]
  },
  {
   "cell_type": "code",
   "execution_count": 5,
   "metadata": {},
   "outputs": [
    {
     "data": {
      "text/html": [
       "<div>\n",
       "<style scoped>\n",
       "    .dataframe tbody tr th:only-of-type {\n",
       "        vertical-align: middle;\n",
       "    }\n",
       "\n",
       "    .dataframe tbody tr th {\n",
       "        vertical-align: top;\n",
       "    }\n",
       "\n",
       "    .dataframe thead th {\n",
       "        text-align: right;\n",
       "    }\n",
       "</style>\n",
       "<table border=\"1\" class=\"dataframe\">\n",
       "  <thead>\n",
       "    <tr style=\"text-align: right;\">\n",
       "      <th></th>\n",
       "      <th>solve_id</th>\n",
       "      <th>solve_type</th>\n",
       "      <th>n</th>\n",
       "      <th>p</th>\n",
       "      <th>q</th>\n",
       "      <th>cut_type</th>\n",
       "      <th>cut_value</th>\n",
       "      <th>max_variables</th>\n",
       "      <th>max_constraints</th>\n",
       "      <th>total_cpu_time</th>\n",
       "      <th>gurobi_cpu_time</th>\n",
       "      <th>non_gurobi_cpu_time</th>\n",
       "      <th>objective_value</th>\n",
       "    </tr>\n",
       "  </thead>\n",
       "  <tbody>\n",
       "    <tr>\n",
       "      <th>0</th>\n",
       "      <td>0</td>\n",
       "      <td>once</td>\n",
       "      <td>10</td>\n",
       "      <td>0.5</td>\n",
       "      <td>0.1</td>\n",
       "      <td>proportion</td>\n",
       "      <td>0.1</td>\n",
       "      <td>90</td>\n",
       "      <td>481</td>\n",
       "      <td>0.015625</td>\n",
       "      <td>0.000000</td>\n",
       "      <td>0.015625</td>\n",
       "      <td>3.0</td>\n",
       "    </tr>\n",
       "    <tr>\n",
       "      <th>1</th>\n",
       "      <td>0</td>\n",
       "      <td>iterative</td>\n",
       "      <td>10</td>\n",
       "      <td>0.5</td>\n",
       "      <td>0.1</td>\n",
       "      <td>proportion</td>\n",
       "      <td>0.1</td>\n",
       "      <td>90</td>\n",
       "      <td>190</td>\n",
       "      <td>0.015625</td>\n",
       "      <td>0.000000</td>\n",
       "      <td>0.015625</td>\n",
       "      <td>3.0</td>\n",
       "    </tr>\n",
       "    <tr>\n",
       "      <th>2</th>\n",
       "      <td>1</td>\n",
       "      <td>once</td>\n",
       "      <td>10</td>\n",
       "      <td>0.5</td>\n",
       "      <td>0.2</td>\n",
       "      <td>proportion</td>\n",
       "      <td>0.1</td>\n",
       "      <td>90</td>\n",
       "      <td>481</td>\n",
       "      <td>0.015625</td>\n",
       "      <td>0.015625</td>\n",
       "      <td>0.000000</td>\n",
       "      <td>5.0</td>\n",
       "    </tr>\n",
       "    <tr>\n",
       "      <th>3</th>\n",
       "      <td>1</td>\n",
       "      <td>iterative</td>\n",
       "      <td>10</td>\n",
       "      <td>0.5</td>\n",
       "      <td>0.2</td>\n",
       "      <td>proportion</td>\n",
       "      <td>0.1</td>\n",
       "      <td>90</td>\n",
       "      <td>174</td>\n",
       "      <td>0.015625</td>\n",
       "      <td>0.000000</td>\n",
       "      <td>0.015625</td>\n",
       "      <td>5.0</td>\n",
       "    </tr>\n",
       "    <tr>\n",
       "      <th>4</th>\n",
       "      <td>2</td>\n",
       "      <td>once</td>\n",
       "      <td>10</td>\n",
       "      <td>0.5</td>\n",
       "      <td>0.1</td>\n",
       "      <td>proportion</td>\n",
       "      <td>0.1</td>\n",
       "      <td>90</td>\n",
       "      <td>481</td>\n",
       "      <td>0.000000</td>\n",
       "      <td>0.000000</td>\n",
       "      <td>0.000000</td>\n",
       "      <td>3.0</td>\n",
       "    </tr>\n",
       "  </tbody>\n",
       "</table>\n",
       "</div>"
      ],
      "text/plain": [
       "   solve_id solve_type   n    p    q    cut_type  cut_value  max_variables  \\\n",
       "0         0       once  10  0.5  0.1  proportion        0.1             90   \n",
       "1         0  iterative  10  0.5  0.1  proportion        0.1             90   \n",
       "2         1       once  10  0.5  0.2  proportion        0.1             90   \n",
       "3         1  iterative  10  0.5  0.2  proportion        0.1             90   \n",
       "4         2       once  10  0.5  0.1  proportion        0.1             90   \n",
       "\n",
       "   max_constraints  total_cpu_time  gurobi_cpu_time  non_gurobi_cpu_time  \\\n",
       "0              481        0.015625         0.000000             0.015625   \n",
       "1              190        0.015625         0.000000             0.015625   \n",
       "2              481        0.015625         0.015625             0.000000   \n",
       "3              174        0.015625         0.000000             0.015625   \n",
       "4              481        0.000000         0.000000             0.000000   \n",
       "\n",
       "   objective_value  \n",
       "0              3.0  \n",
       "1              3.0  \n",
       "2              5.0  \n",
       "3              5.0  \n",
       "4              3.0  "
      ]
     },
     "execution_count": 5,
     "metadata": {},
     "output_type": "execute_result"
    }
   ],
   "source": [
    "meta.head()"
   ]
  },
  {
   "cell_type": "code",
   "execution_count": 6,
   "metadata": {},
   "outputs": [
    {
     "data": {
      "image/png": "[encoded data removed]",
      "text/plain": [
       "<Figure size 432x288 with 1 Axes>"
      ]
     },
     "metadata": {
      "needs_background": "light"
     },
     "output_type": "display_data"
    },
    {
     "data": {
      "image/png": "[encoded data removed]",
      "text/plain": [
       "<Figure size 432x288 with 1 Axes>"
      ]
     },
     "metadata": {
      "needs_background": "light"
     },
     "output_type": "display_data"
    }
   ],
   "source": [
    "# average the runs\n",
    "gd = meta.groupby(['p', 'q', 'solve_type', 'cut_type', 'cut_value', 'n'])['total_cpu_time'].mean().reset_index()\n",
    "\n",
    "# get once solves down to single data points\n",
    "once = gd[gd['solve_type'] == 'once']\n",
    "once = once.groupby(['p', 'q', 'solve_type', 'n'])['total_cpu_time'].mean().reset_index()\n",
    "gd = pd.concat([gd[gd['solve_type'] != 'once'], once])\n",
    "\n",
    "# filter graph data by data set\n",
    "filters = {'once' if pd.isnull(cut_value) else f'{100*cut_value}%' if cut_value < 1 else str(cut_value):\n",
    "           (gd['cut_value'] == cut_value) | (pd.isnull(gd['cut_value']) & (pd.isnull(cut_value)))\n",
    "           for cut_value in gd['cut_value'].unique()} # if pd.isnull(cut_value) or cut_value < 1\n",
    "\n",
    "# graph for each p, q combination \n",
    "for (p, q) in product(gd['p'].unique(), gd['q'].unique()):\n",
    "    for name, fltr in filters.items():\n",
    "        subset = gd.loc[(gd['p'] == p) & (gd['q'] == q) & fltr].sort_values('n')\n",
    "        plt.plot(subset['n'], subset['total_cpu_time'], label=name)\n",
    "        \n",
    "    plt.title(f'runtime comparison for p={p} and q={q}')\n",
    "    plt.ylabel('cpu_time')\n",
    "    plt.xlabel('n')\n",
    "    plt.legend()\n",
    "    plt.show()"
   ]
  },
  {
   "cell_type": "code",
   "execution_count": 134,
   "metadata": {},
   "outputs": [
    {
     "data": {
      "image/png": "[encoded data removed]",
      "text/plain": [
       "<Figure size 432x288 with 1 Axes>"
      ]
     },
     "metadata": {
      "needs_background": "light"
     },
     "output_type": "display_data"
    }
   ],
   "source": [
    "# graph showing ratio of non_gurobi_cpu_time to all total_cpu_time\n",
    "gd = meta.groupby(['cut_value', 'n'])[['non_gurobi_cpu_time', 'total_cpu_time']].sum().reset_index()\n",
    "gd['proportion_non_gurobi'] = gd['non_gurobi_cpu_time']/gd['total_cpu_time']\n",
    "gd = gd.groupby(['cut_value'])[['n', 'proportion_non_gurobi']]\n",
    "for cut_value, df in gd:\n",
    "    plt.plot(df['n'], df['proportion_non_gurobi'], label=f'{100*cut_value}%' if cut_value < 1 else str(cut_value))\n",
    "        \n",
    "plt.title(f'non gurobi cpu usage for different cut values')\n",
    "plt.ylabel('proportion of cpu time spent not on gurobi')\n",
    "plt.xlabel('n')\n",
    "plt.legend()\n",
    "plt.show()"
   ]
  },
  {
   "cell_type": "code",
   "execution_count": null,
   "metadata": {},
   "outputs": [],
   "source": []
  }
 ],
 "metadata": {
  "kernelspec": {
   "display_name": "Python 3",
   "language": "python",
   "name": "python3"
  },
  "language_info": {
   "codemirror_mode": {
    "name": "ipython",
    "version": 3
   },
   "file_extension": ".py",
   "mimetype": "text/x-python",
   "name": "python",
   "nbconvert_exporter": "python",
   "pygments_lexer": "ipython3",
   "version": "3.7.4"
  }
 },
 "nbformat": 4,
 "nbformat_minor": 4
}
